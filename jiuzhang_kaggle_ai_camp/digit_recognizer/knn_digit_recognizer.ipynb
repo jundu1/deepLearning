{
 "cells": [
  {
   "cell_type": "markdown",
   "metadata": {
    "_cell_guid": "504c1194-6980-45aa-92f1-caf55b44dbb0",
    "_uuid": "ebb70d7332fcafed13c1c963652c48285b531b76"
   },
   "source": [
    "# Jiuzhang KNN Project Assignment\n",
    "### Kaggle Digit Recognizer\n",
    "\n",
    "https://www.kaggle.com/c/digit-recognizer"
   ]
  },
  {
   "cell_type": "markdown",
   "metadata": {
    "_cell_guid": "0604f6b3-046f-4b65-a1a9-3a5f8e824752",
    "_uuid": "26283408c3c54401ae8c237dded11a5d54141159"
   },
   "source": [
    "### Input Data"
   ]
  },
  {
   "cell_type": "code",
   "execution_count": 1,
   "metadata": {
    "_cell_guid": "f206c2ba-7c09-4f26-ac95-e8a24dfb9ae7",
    "_uuid": "11ab637213812ce08688490c3f6cef097d603ff2",
    "collapsed": true
   },
   "outputs": [],
   "source": [
    "import numpy as np \n",
    "import pandas as pd \n",
    "import matplotlib.pyplot as plt"
   ]
  },
  {
   "cell_type": "markdown",
   "metadata": {
    "_cell_guid": "61d6082e-6ea1-4f92-9329-0848647a17c3",
    "_uuid": "ae5b578dffd73ed55fcba8b4c011334d46f55027"
   },
   "source": [
    "Read tran.csv and test.csv as numpy arrays"
   ]
  },
  {
   "cell_type": "code",
   "execution_count": 2,
   "metadata": {
    "_cell_guid": "cc5d4fe8-a0a6-4640-973c-94bfe7639635",
    "_uuid": "8541a8ca7e77c1b6885d56f8b7b932b13f5f67c8",
    "collapsed": true
   },
   "outputs": [],
   "source": [
    "data_dir = \"input/\"\n",
    "train = pd.read_csv(data_dir + \"train.csv\")"
   ]
  },
  {
   "cell_type": "code",
   "execution_count": 3,
   "metadata": {},
   "outputs": [
    {
     "name": "stdout",
     "output_type": "stream",
     "text": [
      "X train (3000, 784)\n",
      "y train (3000, 784)\n",
      "Pred_test (3000, 784)\n"
     ]
    }
   ],
   "source": [
    "train_row = 3000\n",
    "X_train = train.values[0:train_row,1:]\n",
    "y_train = train.values[0:train_row,0]\n",
    "Pred_test = pd.read_csv(data_dir + \"test.csv\").values\n",
    "print('X train', X_train.shape)\n",
    "print('y train', X_train.shape)\n",
    "print('Pred_test', X_train.shape)"
   ]
  },
  {
   "cell_type": "markdown",
   "metadata": {
    "_cell_guid": "4c2b43d7-5930-4e98-af99-d74049771acc",
    "_uuid": "df3d5ab5655dc2f05367d6c147f7423effcf1d68"
   },
   "source": [
    "### Visualize Data"
   ]
  },
  {
   "cell_type": "code",
   "execution_count": 4,
   "metadata": {
    "_cell_guid": "c2c6ec59-ebc1-4d4e-ae89-d5a9ef240835",
    "_uuid": "761de08af4ee6c975fe406ed66f90f0bc88fe8ff"
   },
   "outputs": [
    {
     "data": {
      "image/png": "[encoded data removed]",
      "text/plain": [
       "<Figure size 432x288 with 1 Axes>"
      ]
     },
     "metadata": {
      "needs_background": "light"
     },
     "output_type": "display_data"
    }
   ],
   "source": [
    "row = 25\n",
    "plt.imshow(X_train[row].reshape((28,28)))\n",
    "plt.show()"
   ]
  },
  {
   "cell_type": "markdown",
   "metadata": {
    "_cell_guid": "16e64324-48af-492d-8f42-c6ac6e7a35c0",
    "_uuid": "31a53b52bea59d427d33194aafd6103ad46cf601"
   },
   "source": [
    "### Train test split"
   ]
  },
  {
   "cell_type": "code",
   "execution_count": 5,
   "metadata": {
    "_cell_guid": "ff788363-fa17-4748-bba8-6a4ae2487181",
    "_uuid": "9f3273d2f90dc599f82c63f3bc829b779e282eb5"
   },
   "outputs": [
    {
     "name": "stdout",
     "output_type": "stream",
     "text": [
      "(2400, 784) (600, 784)\n"
     ]
    }
   ],
   "source": [
    "from sklearn.model_selection import train_test_split\n",
    "\n",
    "X_train_split, X_test_split, y_train_split, y_test_split = train_test_split(X_train, y_train, test_size=0.2, random_state=0)\n",
    "\n",
    "print(X_train_split.shape,  X_test_split.shape)"
   ]
  },
  {
   "cell_type": "code",
   "execution_count": 6,
   "metadata": {
    "_cell_guid": "93aec800-e499-4de7-a218-9d3231043b32",
    "_uuid": "2d8a667aa10291fe03b528c4ab5f55eb7dcf9dd0"
   },
   "outputs": [
    {
     "name": "stdout",
     "output_type": "stream",
     "text": [
      "value of k: 1\n",
      "accuracy: 0.915\n",
      "[[63  0  0  0  0  0  0  0  0  0]\n",
      " [ 0 67  0  0  0  0  0  0  0  0]\n",
      " [ 0  2 60  4  0  0  2  1  0  1]\n",
      " [ 0  0  1 48  0  0  0  2  1  1]\n",
      " [ 0  0  0  0 52  0  2  0  0  6]\n",
      " [ 0  1  0  2  0 46  0  0  1  1]\n",
      " [ 0  0  0  0  0  0 70  0  1  0]\n",
      " [ 0  3  0  0  1  0  0 48  0  1]\n",
      " [ 1  1  0  2  0  1  0  1 51  3]\n",
      " [ 1  0  0  0  3  0  0  3  1 44]]\n",
      "value of k: 2\n",
      "accuracy: 0.9133333333333333\n",
      "[[63  0  0  0  0  0  0  0  0  0]\n",
      " [ 0 67  0  0  0  0  0  0  0  0]\n",
      " [ 0  3 63  2  1  0  0  1  0  0]\n",
      " [ 0  0  1 51  0  0  0  1  0  0]\n",
      " [ 0  0  0  0 58  0  1  0  0  1]\n",
      " [ 0  2  0  5  0 44  0  0  0  0]\n",
      " [ 3  0  0  0  0  2 66  0  0  0]\n",
      " [ 0  3  0  0  1  0  0 48  0  1]\n",
      " [ 1  2  1  2  0  4  0  2 46  2]\n",
      " [ 1  0  0  0  5  0  0  3  1 42]]\n",
      "value of k: 3\n",
      "accuracy: 0.9216666666666666\n",
      "[[63  0  0  0  0  0  0  0  0  0]\n",
      " [ 0 67  0  0  0  0  0  0  0  0]\n",
      " [ 1  3 63  2  0  0  0  1  0  0]\n",
      " [ 0  0  2 49  0  1  0  1  0  0]\n",
      " [ 0  0  0  0 55  0  2  0  0  3]\n",
      " [ 0  2  0  0  0 48  0  0  0  1]\n",
      " [ 2  0  0  0  0  1 68  0  0  0]\n",
      " [ 0  3  0  0  1  0  0 47  0  2]\n",
      " [ 1  3  0  1  0  0  0  2 49  4]\n",
      " [ 0  0  0  0  4  0  0  3  1 44]]\n",
      "value of k: 4\n",
      "accuracy: 0.92\n",
      "[[63  0  0  0  0  0  0  0  0  0]\n",
      " [ 0 67  0  0  0  0  0  0  0  0]\n",
      " [ 0  2 63  2  0  0  1  2  0  0]\n",
      " [ 0  1  1 49  0  0  1  1  0  0]\n",
      " [ 0  0  0  0 56  0  2  0  0  2]\n",
      " [ 0  2  0  0  0 48  0  1  0  0]\n",
      " [ 2  0  0  0  0  1 68  0  0  0]\n",
      " [ 0  3  0  0  1  0  0 47  0  2]\n",
      " [ 1  3  0  1  0  2  0  1 47  5]\n",
      " [ 0  0  0  0  2  0  0  5  1 44]]\n",
      "value of k: 5\n",
      "accuracy: 0.9166666666666666\n",
      "[[63  0  0  0  0  0  0  0  0  0]\n",
      " [ 0 67  0  0  0  0  0  0  0  0]\n",
      " [ 0  2 63  2  1  0  0  2  0  0]\n",
      " [ 0  1  1 48  0  2  0  1  0  0]\n",
      " [ 0  0  0  0 52  0  2  1  0  5]\n",
      " [ 0  2  0  0  0 48  0  0  0  1]\n",
      " [ 2  0  0  0  0  1 68  0  0  0]\n",
      " [ 0  3  0  0  1  0  0 47  0  2]\n",
      " [ 1  3  0  2  0  1  0  1 48  4]\n",
      " [ 0  0  0  0  2  0  0  3  1 46]]\n",
      "value of k: 6\n",
      "accuracy: 0.8966666666666666\n",
      "[[63  0  0  0  0  0  0  0  0  0]\n",
      " [ 0 67  0  0  0  0  0  0  0  0]\n",
      " [ 0  3 63  0  1  0  0  2  0  1]\n",
      " [ 0  1  2 45  0  3  0  1  1  0]\n",
      " [ 0  1  0  0 52  0  1  0  0  6]\n",
      " [ 2  2  0  1  0 43  0  1  0  2]\n",
      " [ 2  0  0  0  0  1 68  0  0  0]\n",
      " [ 0  3  0  0  1  0  0 47  0  2]\n",
      " [ 1  3  0  2  1  2  0  1 46  4]\n",
      " [ 0  0  0  0  4  0  0  3  1 44]]\n",
      "value of k: 7\n",
      "accuracy: 0.9033333333333333\n",
      "[[62  0  0  0  0  0  1  0  0  0]\n",
      " [ 0 67  0  0  0  0  0  0  0  0]\n",
      " [ 0  4 62  0  1  0  0  2  0  1]\n",
      " [ 0  1  1 47  0  2  0  1  1  0]\n",
      " [ 0  1  0  0 52  0  2  0  0  5]\n",
      " [ 1  2  0  0  0 45  0  1  0  2]\n",
      " [ 2  0  0  0  0  2 67  0  0  0]\n",
      " [ 0  3  0  0  0  0  0 47  0  3]\n",
      " [ 1  3  0  2  0  1  0  1 47  5]\n",
      " [ 0  0  0  0  2  0  0  3  1 46]]\n",
      "value of k: 8\n",
      "accuracy: 0.8983333333333333\n",
      "[[63  0  0  0  0  0  0  0  0  0]\n",
      " [ 0 67  0  0  0  0  0  0  0  0]\n",
      " [ 0  4 62  0  1  0  0  2  0  1]\n",
      " [ 0  1  1 48  0  2  0  1  0  0]\n",
      " [ 0  1  0  0 53  0  2  0  0  4]\n",
      " [ 1  2  0  0  0 45  0  1  0  2]\n",
      " [ 2  0  0  0  0  2 67  0  0  0]\n",
      " [ 0  3  0  0  0  0  0 47  0  3]\n",
      " [ 1  3  0  2  1  3  0  1 45  4]\n",
      " [ 0  0  0  1  6  0  0  3  0 42]]\n",
      "value of k: 9\n",
      "accuracy: 0.9016666666666666\n",
      "[[63  0  0  0  0  0  0  0  0  0]\n",
      " [ 0 67  0  0  0  0  0  0  0  0]\n",
      " [ 0  4 62  0  1  0  0  2  0  1]\n",
      " [ 0  1  1 48  0  2  0  1  0  0]\n",
      " [ 0  1  0  0 52  0  2  0  0  5]\n",
      " [ 1  2  0  0  0 45  0  1  0  2]\n",
      " [ 2  0  0  0  0  2 67  0  0  0]\n",
      " [ 0  3  0  0  0  0  0 47  0  3]\n",
      " [ 1  3  0  2  0  3  0  1 45  5]\n",
      " [ 0  0  0  1  3  0  0  3  0 45]]\n"
     ]
    }
   ],
   "source": [
    "from sklearn.metrics import accuracy_score,classification_report,confusion_matrix\n",
    "from sklearn.neighbors import KNeighborsClassifier\n",
    "\n",
    "k_range = range(1,10)\n",
    "scores = []\n",
    "y_prediction = []\n",
    "for k in k_range:\n",
    "    print('value of k:', k)\n",
    "    knn = KNeighborsClassifier(n_neighbors = k)\n",
    "    knn.fit(X_train_split, y_train_split)\n",
    "    y_pred = knn.predict(X_test_split)\n",
    "    y_prediction.append(y_pred)\n",
    "    accuracy = accuracy_score(y_test_split, y_pred)\n",
    "    scores.append(accuracy)\n",
    "    print('accuracy:', accuracy)    \n",
    "    print(confusion_matrix(y_test_split,y_pred))    "
   ]
  },
  {
   "cell_type": "markdown",
   "metadata": {
    "_cell_guid": "85741aa6-14e1-43e3-b12c-f00180ea9db8",
    "_uuid": "e11013543394219528ba34e266c9134e9b340ebf"
   },
   "source": [
    "### Find the best accuracy with value of K"
   ]
  },
  {
   "cell_type": "code",
   "execution_count": 7,
   "metadata": {
    "_cell_guid": "67390da3-6710-4bce-b0f1-8f364e5944e1",
    "_uuid": "1862c48c0d9ccba622f7876d5baad0191bf32796"
   },
   "outputs": [
    {
     "name": "stdout",
     "output_type": "stream",
     "text": [
      "[0.915, 0.9133333333333333, 0.9216666666666666, 0.92, 0.9166666666666666, 0.8966666666666666, 0.9033333333333333, 0.8983333333333333, 0.9016666666666666]\n"
     ]
    },
    {
     "data": {
      "image/png": "[encoded data removed]",
      "text/plain": [
       "<Figure size 432x288 with 1 Axes>"
      ]
     },
     "metadata": {
      "needs_background": "light"
     },
     "output_type": "display_data"
    }
   ],
   "source": [
    "print(scores)\n",
    "plt.plot(k_range, scores)\n",
    "plt.xlabel('Value of K')\n",
    "plt.ylabel('Testing accuracy')\n",
    "plt.title('Accuracy vs K')\n",
    "plt.show()"
   ]
  },
  {
   "cell_type": "markdown",
   "metadata": {
    "_cell_guid": "0fc75b9d-87e5-4147-b74f-724d7bc93fcd",
    "_uuid": "fdbf617c65d78718fe7793e7fc2e55ecadaaa04e"
   },
   "source": [
    "### Out of Sample Prediction \n"
   ]
  },
  {
   "cell_type": "code",
   "execution_count": 8,
   "metadata": {
    "_cell_guid": "87c41cfe-4863-4e7f-a38b-dabdf14b24a0",
    "_uuid": "1d791d62060f3b6deb5215c89eb6e813b95bd536",
    "collapsed": true
   },
   "outputs": [],
   "source": [
    "k = 3\n",
    "\n",
    "knn = KNeighborsClassifier(n_neighbors=k)\n",
    "knn.fit(X_train,y_train)\n",
    "y_pred = knn.predict(Pred_test[:300])\n",
    "# change this line to y_pred = knn.predict(Origin_X_test) for full test"
   ]
  },
  {
   "cell_type": "markdown",
   "metadata": {
    "_cell_guid": "02616849-0f6c-422f-82b1-f1b7a31c87c5",
    "_uuid": "6890a00551cdf3ec76ee99a60965a670ed20c239"
   },
   "source": [
    "### Verify Prediction Results"
   ]
  },
  {
   "cell_type": "code",
   "execution_count": 9,
   "metadata": {
    "_cell_guid": "6d774516-3d31-417a-b1eb-d7a8ffa6242e",
    "_uuid": "f5456e57ecb856612c2be0e7b3089a5e4a34dd5a",
    "collapsed": true
   },
   "outputs": [
    {
     "name": "stdout",
     "output_type": "stream",
     "text": [
      "1\n"
     ]
    },
    {
     "data": {
      "image/png": "[encoded data removed]",
      "text/plain": [
       "<Figure size 432x288 with 1 Axes>"
      ]
     },
     "metadata": {
      "needs_background": "light"
     },
     "output_type": "display_data"
    }
   ],
   "source": [
    "print (y_pred[200])\n",
    "plt.imshow(Pred_test[200].reshape((28, 28)))\n",
    "plt.show()"
   ]
  },
  {
   "cell_type": "markdown",
   "metadata": {
    "_cell_guid": "eadc71f0-386e-4318-8261-d3a0da05c0bd",
    "_uuid": "401c578da3e3c6ea4180242bc5843d7a8cb00b65"
   },
   "source": [
    "### Save down submissoin files\n",
    "\n",
    "* ImageId\tLabel\n",
    "* 1\t2\n",
    "* 2\t0\n",
    "* 3\t9\n",
    "* 4\t9"
   ]
  },
  {
   "cell_type": "code",
   "execution_count": 10,
   "metadata": {
    "_cell_guid": "a7c7dd6d-6d89-4ea9-9d37-41a6d3ecf048",
    "_uuid": "6b467e130ce5d8f5656062c7eadf63621d171671",
    "collapsed": true
   },
   "outputs": [
    {
     "name": "stdout",
     "output_type": "stream",
     "text": [
      "300\n"
     ]
    }
   ],
   "source": [
    "print(len(y_pred))\n",
    "\n",
    "# save submission to csv\n",
    "pd.DataFrame({\"ImageId\": list(range(1,len(y_pred)+1)),\"Label\": y_pred}).to_csv('Digit_Recogniser_Result.csv', index=False,header=True)"
   ]
  }
 ],
 "metadata": {
  "kernelspec": {
   "display_name": "Python 3",
   "language": "python",
   "name": "python3"
  },
  "language_info": {
   "codemirror_mode": {
    "name": "ipython",
    "version": 3
   },
   "file_extension": ".py",
   "mimetype": "text/x-python",
   "name": "python",
   "nbconvert_exporter": "python",
   "pygments_lexer": "ipython3",
   "version": "3.7.3"
  }
 },
 "nbformat": 4,
 "nbformat_minor": 2
}
