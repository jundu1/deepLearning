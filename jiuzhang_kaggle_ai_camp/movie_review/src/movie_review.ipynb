{
 "cells": [
  {
   "cell_type": "markdown",
   "metadata": {},
   "source": [
    "# Movie Sentiment Analysis\n",
    "https://www.kaggle.com/c/word2vec-nlp-tutorial/"
   ]
  },
  {
   "cell_type": "markdown",
   "metadata": {
    "_cell_guid": "d6b1ab40-34da-4645-98c4-4b61c97895f6",
    "_uuid": "0259bd59e4fad41ffd78aa5a510a83ef07daab7f"
   },
   "source": [
    "## Read in data"
   ]
  },
  {
   "cell_type": "code",
   "execution_count": null,
   "metadata": {
    "_cell_guid": "a89760f4-9075-42be-b4c4-c8c87d175c88",
    "_uuid": "4429a082ddabcb23261daec29ee1ae9e68ba2a2e"
   },
   "outputs": [],
   "source": [
    "import numpy as np \n",
    "import pandas as pd \n",
    "import matplotlib.pyplot as plt\n",
    "\n",
    "import pandas as pd\n",
    "\n",
    "\n",
    "train = pd.read_csv('../input/labeledTrainData.tsv', delimiter=\"\\t\")\n",
    "test = pd.read_csv('../input/testData.tsv', delimiter=\"\\t\")\n",
    "train.head()                "
   ]
  },
  {
   "cell_type": "code",
   "execution_count": null,
   "metadata": {
    "_cell_guid": "76be376a-0c66-4001-ac99-9b968ce62781",
    "_uuid": "bc7497787d1d19eee918fec0faabe29669a8b3fb"
   },
   "outputs": [],
   "source": [
    "print (train.shape)\n",
    "print (test.shape)"
   ]
  },
  {
   "cell_type": "code",
   "execution_count": null,
   "metadata": {
    "_cell_guid": "e4415b37-0855-49bd-8926-afe63c668268",
    "_uuid": "1d737630d3f2df2b3d28355f57cabbf594c2bf23"
   },
   "outputs": [],
   "source": [
    "y_train = train['sentiment']"
   ]
  },
  {
   "cell_type": "code",
   "execution_count": null,
   "metadata": {
    "_cell_guid": "708ea854-0c20-4ac0-97b7-90075d8f63c4",
    "_uuid": "ad1c1cf6085fdf9d83c34c68b324f1c73e710315"
   },
   "outputs": [],
   "source": [
    "import re  #regular expression\n",
    "\n",
    "def review_to_wordlist(review):\n",
    "#     print(review)\n",
    "\n",
    "#   Filter for alphabets only\n",
    "    review_text = re.sub(\"[^a-zA-Z]\",\" \", review)\n",
    "#     print (review_text)\n",
    "    \n",
    "    words = review_text.lower()\n",
    "    \n",
    "    return(words)\n",
    "\n",
    "y_train = train['sentiment']\n",
    "train_data = []\n",
    "\n",
    "for i in range(0,len(train['review'])):\n",
    "    if i % 1000 == 0:\n",
    "        print ('training process line: ', str(i))\n",
    "    train_data.append(review_to_wordlist(train['review'][i]))\n",
    "        \n",
    "train_data = np.array(train_data)\n",
    "test_data = []\n",
    "for i in range(0,len(test['review'])):\n",
    "    if i % 1000 == 0:\n",
    "        print ('testing process line: ', str(i))\n",
    "    test_data.append(review_to_wordlist(test['review'][i]))\n",
    "    \n",
    "test_data = np.array(test_data)"
   ]
  },
  {
   "cell_type": "code",
   "execution_count": null,
   "metadata": {},
   "outputs": [],
   "source": [
    "from sklearn.feature_extraction.text import CountVectorizer \n",
    "from sklearn.feature_extraction.text import TfidfVectorizer\n",
    "\n",
    "# vectorizer = CountVectorizer()\n",
    "\n",
    "# data_train_count = vectorizer.fit_transform(train_data)\n",
    "# data_test_count  = vectorizer.transform(test_data)\n",
    "\n",
    "tfidf = TfidfVectorizer(\n",
    "           ngram_range=(1, 3), \n",
    "           use_idf=1,\n",
    "           smooth_idf=1,\n",
    "           stop_words = 'english') \n",
    "\n",
    "\n",
    "data_train_count_tf = tfidf.fit_transform(train_data)\n",
    "data_test_count_tf  = tfidf.transform(test_data)\n"
   ]
  },
  {
   "cell_type": "code",
   "execution_count": null,
   "metadata": {},
   "outputs": [],
   "source": [
    "# print (data_train_count.shape, y_train.shape, data_test_count.shape)\n",
    "# print (data_train_count_tf)\n",
    "\n",
    "\n",
    "word_freq_df = pd.DataFrame({'term': tfidf.get_feature_names(), 'tfidf':data_train_count_tf.toarray().sum(axis=0)})\n",
    "plt.plot(word_freq_df.occurrences)\n",
    "\n",
    "plt.show()\n",
    "\n",
    "\n",
    "word_freq_df_sort = word_freq_df.sort_values(by=['tfidf'], ascending=False)\n",
    "word_freq_df_sort.head()"
   ]
  },
  {
   "cell_type": "code",
   "execution_count": null,
   "metadata": {},
   "outputs": [],
   "source": [
    "from sklearn.naive_bayes import MultinomialNB \n",
    "\n",
    "clf = MultinomialNB()\n",
    "clf.fit(data_train_count, y_train)\n",
    "from sklearn.model_selection import cross_val_score\n",
    "import numpy as np\n",
    "\n",
    "print (\"MultinomialNB Cross Validation: \", np.mean(cross_val_score(clf, data_train_count, y_train, cv=10, scoring='accuracy')))\n",
    "\n",
    "print (\"MultinomialNB Cross Validation: \", np.mean(cross_val_score(clf, data_train_count_tf, y_train, cv=10, scoring='accuracy')))\n"
   ]
  },
  {
   "cell_type": "code",
   "execution_count": null,
   "metadata": {},
   "outputs": [],
   "source": [
    "pred = clf.predict(data_test_count)\n",
    "print (pred)\n",
    "\n",
    "df = pd.DataFrame({\"id\": test['id'],\"sentiment\": pred})\n",
    "\n",
    "df.to_csv('submission.csv',index = False, header=True)"
   ]
  }
 ],
 "metadata": {
  "kernelspec": {
   "display_name": "Python 3",
   "language": "python",
   "name": "python3"
  },
  "language_info": {
   "codemirror_mode": {
    "name": "ipython",
    "version": 3
   },
   "file_extension": ".py",
   "mimetype": "text/x-python",
   "name": "python",
   "nbconvert_exporter": "python",
   "pygments_lexer": "ipython3",
   "version": "3.7.3"
  }
 },
 "nbformat": 4,
 "nbformat_minor": 2
}
