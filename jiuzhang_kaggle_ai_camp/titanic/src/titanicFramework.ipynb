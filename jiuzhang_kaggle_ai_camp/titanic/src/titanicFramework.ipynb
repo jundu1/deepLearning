{
 "cells": [
  {
   "cell_type": "markdown",
   "metadata": {},
   "source": [
    "# Titanic\n",
    "https://www.kaggle.com/c/titanic"
   ]
  },
  {
   "cell_type": "code",
   "execution_count": 1,
   "metadata": {
    "_cell_guid": "60a9f86c-3966-b593-db50-3117a967407a"
   },
   "outputs": [],
   "source": [
    "import numpy as np \n",
    "import pandas as pd \n",
    "import matplotlib.pyplot as plt"
   ]
  },
  {
   "cell_type": "markdown",
   "metadata": {},
   "source": [
    "### Data Input"
   ]
  },
  {
   "cell_type": "code",
   "execution_count": 2,
   "metadata": {
    "_cell_guid": "6a8f6ab7-616e-cd98-7078-728d76927f61"
   },
   "outputs": [],
   "source": [
    "dataset = pd.read_csv('../input/train.csv')\n",
    "testset = pd.read_csv('../input/test.csv')"
   ]
  },
  {
   "cell_type": "code",
   "execution_count": 3,
   "metadata": {},
   "outputs": [
    {
     "data": {
      "text/html": [
       "<div>\n",
       "<style scoped>\n",
       "    .dataframe tbody tr th:only-of-type {\n",
       "        vertical-align: middle;\n",
       "    }\n",
       "\n",
       "    .dataframe tbody tr th {\n",
       "        vertical-align: top;\n",
       "    }\n",
       "\n",
       "    .dataframe thead th {\n",
       "        text-align: right;\n",
       "    }\n",
       "</style>\n",
       "<table border=\"1\" class=\"dataframe\">\n",
       "  <thead>\n",
       "    <tr style=\"text-align: right;\">\n",
       "      <th></th>\n",
       "      <th>PassengerId</th>\n",
       "      <th>Survived</th>\n",
       "      <th>Pclass</th>\n",
       "      <th>Name</th>\n",
       "      <th>Sex</th>\n",
       "      <th>Age</th>\n",
       "      <th>SibSp</th>\n",
       "      <th>Parch</th>\n",
       "      <th>Ticket</th>\n",
       "      <th>Fare</th>\n",
       "      <th>Cabin</th>\n",
       "      <th>Embarked</th>\n",
       "    </tr>\n",
       "  </thead>\n",
       "  <tbody>\n",
       "    <tr>\n",
       "      <th>0</th>\n",
       "      <td>1</td>\n",
       "      <td>0</td>\n",
       "      <td>3</td>\n",
       "      <td>Braund, Mr. Owen Harris</td>\n",
       "      <td>male</td>\n",
       "      <td>22.0</td>\n",
       "      <td>1</td>\n",
       "      <td>0</td>\n",
       "      <td>A/5 21171</td>\n",
       "      <td>7.2500</td>\n",
       "      <td>NaN</td>\n",
       "      <td>S</td>\n",
       "    </tr>\n",
       "    <tr>\n",
       "      <th>1</th>\n",
       "      <td>2</td>\n",
       "      <td>1</td>\n",
       "      <td>1</td>\n",
       "      <td>Cumings, Mrs. John Bradley (Florence Briggs Th...</td>\n",
       "      <td>female</td>\n",
       "      <td>38.0</td>\n",
       "      <td>1</td>\n",
       "      <td>0</td>\n",
       "      <td>PC 17599</td>\n",
       "      <td>71.2833</td>\n",
       "      <td>C85</td>\n",
       "      <td>C</td>\n",
       "    </tr>\n",
       "    <tr>\n",
       "      <th>2</th>\n",
       "      <td>3</td>\n",
       "      <td>1</td>\n",
       "      <td>3</td>\n",
       "      <td>Heikkinen, Miss. Laina</td>\n",
       "      <td>female</td>\n",
       "      <td>26.0</td>\n",
       "      <td>0</td>\n",
       "      <td>0</td>\n",
       "      <td>STON/O2. 3101282</td>\n",
       "      <td>7.9250</td>\n",
       "      <td>NaN</td>\n",
       "      <td>S</td>\n",
       "    </tr>\n",
       "    <tr>\n",
       "      <th>3</th>\n",
       "      <td>4</td>\n",
       "      <td>1</td>\n",
       "      <td>1</td>\n",
       "      <td>Futrelle, Mrs. Jacques Heath (Lily May Peel)</td>\n",
       "      <td>female</td>\n",
       "      <td>35.0</td>\n",
       "      <td>1</td>\n",
       "      <td>0</td>\n",
       "      <td>113803</td>\n",
       "      <td>53.1000</td>\n",
       "      <td>C123</td>\n",
       "      <td>S</td>\n",
       "    </tr>\n",
       "    <tr>\n",
       "      <th>4</th>\n",
       "      <td>5</td>\n",
       "      <td>0</td>\n",
       "      <td>3</td>\n",
       "      <td>Allen, Mr. William Henry</td>\n",
       "      <td>male</td>\n",
       "      <td>35.0</td>\n",
       "      <td>0</td>\n",
       "      <td>0</td>\n",
       "      <td>373450</td>\n",
       "      <td>8.0500</td>\n",
       "      <td>NaN</td>\n",
       "      <td>S</td>\n",
       "    </tr>\n",
       "  </tbody>\n",
       "</table>\n",
       "</div>"
      ],
      "text/plain": [
       "   PassengerId  Survived  Pclass  \\\n",
       "0            1         0       3   \n",
       "1            2         1       1   \n",
       "2            3         1       3   \n",
       "3            4         1       1   \n",
       "4            5         0       3   \n",
       "\n",
       "                                                Name     Sex   Age  SibSp  \\\n",
       "0                            Braund, Mr. Owen Harris    male  22.0      1   \n",
       "1  Cumings, Mrs. John Bradley (Florence Briggs Th...  female  38.0      1   \n",
       "2                             Heikkinen, Miss. Laina  female  26.0      0   \n",
       "3       Futrelle, Mrs. Jacques Heath (Lily May Peel)  female  35.0      1   \n",
       "4                           Allen, Mr. William Henry    male  35.0      0   \n",
       "\n",
       "   Parch            Ticket     Fare Cabin Embarked  \n",
       "0      0         A/5 21171   7.2500   NaN        S  \n",
       "1      0          PC 17599  71.2833   C85        C  \n",
       "2      0  STON/O2. 3101282   7.9250   NaN        S  \n",
       "3      0            113803  53.1000  C123        S  \n",
       "4      0            373450   8.0500   NaN        S  "
      ]
     },
     "execution_count": 3,
     "metadata": {},
     "output_type": "execute_result"
    }
   ],
   "source": [
    "dataset.head()"
   ]
  },
  {
   "cell_type": "markdown",
   "metadata": {},
   "source": [
    "### Quick EDA"
   ]
  },
  {
   "cell_type": "code",
   "execution_count": 4,
   "metadata": {},
   "outputs": [
    {
     "data": {
      "text/plain": [
       "PassengerId      int64\n",
       "Survived         int64\n",
       "Pclass           int64\n",
       "Name            object\n",
       "Sex             object\n",
       "Age            float64\n",
       "SibSp            int64\n",
       "Parch            int64\n",
       "Ticket          object\n",
       "Fare           float64\n",
       "Cabin           object\n",
       "Embarked        object\n",
       "dtype: object"
      ]
     },
     "execution_count": 4,
     "metadata": {},
     "output_type": "execute_result"
    }
   ],
   "source": [
    "dataset.dtypes"
   ]
  },
  {
   "cell_type": "code",
   "execution_count": 5,
   "metadata": {},
   "outputs": [
    {
     "data": {
      "text/html": [
       "<div>\n",
       "<style scoped>\n",
       "    .dataframe tbody tr th:only-of-type {\n",
       "        vertical-align: middle;\n",
       "    }\n",
       "\n",
       "    .dataframe tbody tr th {\n",
       "        vertical-align: top;\n",
       "    }\n",
       "\n",
       "    .dataframe thead th {\n",
       "        text-align: right;\n",
       "    }\n",
       "</style>\n",
       "<table border=\"1\" class=\"dataframe\">\n",
       "  <thead>\n",
       "    <tr style=\"text-align: right;\">\n",
       "      <th></th>\n",
       "      <th>PassengerId</th>\n",
       "      <th>Survived</th>\n",
       "      <th>Pclass</th>\n",
       "      <th>Age</th>\n",
       "      <th>SibSp</th>\n",
       "      <th>Parch</th>\n",
       "      <th>Fare</th>\n",
       "    </tr>\n",
       "  </thead>\n",
       "  <tbody>\n",
       "    <tr>\n",
       "      <th>count</th>\n",
       "      <td>891.000000</td>\n",
       "      <td>891.000000</td>\n",
       "      <td>891.000000</td>\n",
       "      <td>714.000000</td>\n",
       "      <td>891.000000</td>\n",
       "      <td>891.000000</td>\n",
       "      <td>891.000000</td>\n",
       "    </tr>\n",
       "    <tr>\n",
       "      <th>mean</th>\n",
       "      <td>446.000000</td>\n",
       "      <td>0.383838</td>\n",
       "      <td>2.308642</td>\n",
       "      <td>29.699118</td>\n",
       "      <td>0.523008</td>\n",
       "      <td>0.381594</td>\n",
       "      <td>32.204208</td>\n",
       "    </tr>\n",
       "    <tr>\n",
       "      <th>std</th>\n",
       "      <td>257.353842</td>\n",
       "      <td>0.486592</td>\n",
       "      <td>0.836071</td>\n",
       "      <td>14.526497</td>\n",
       "      <td>1.102743</td>\n",
       "      <td>0.806057</td>\n",
       "      <td>49.693429</td>\n",
       "    </tr>\n",
       "    <tr>\n",
       "      <th>min</th>\n",
       "      <td>1.000000</td>\n",
       "      <td>0.000000</td>\n",
       "      <td>1.000000</td>\n",
       "      <td>0.420000</td>\n",
       "      <td>0.000000</td>\n",
       "      <td>0.000000</td>\n",
       "      <td>0.000000</td>\n",
       "    </tr>\n",
       "    <tr>\n",
       "      <th>25%</th>\n",
       "      <td>223.500000</td>\n",
       "      <td>0.000000</td>\n",
       "      <td>2.000000</td>\n",
       "      <td>20.125000</td>\n",
       "      <td>0.000000</td>\n",
       "      <td>0.000000</td>\n",
       "      <td>7.910400</td>\n",
       "    </tr>\n",
       "    <tr>\n",
       "      <th>50%</th>\n",
       "      <td>446.000000</td>\n",
       "      <td>0.000000</td>\n",
       "      <td>3.000000</td>\n",
       "      <td>28.000000</td>\n",
       "      <td>0.000000</td>\n",
       "      <td>0.000000</td>\n",
       "      <td>14.454200</td>\n",
       "    </tr>\n",
       "    <tr>\n",
       "      <th>75%</th>\n",
       "      <td>668.500000</td>\n",
       "      <td>1.000000</td>\n",
       "      <td>3.000000</td>\n",
       "      <td>38.000000</td>\n",
       "      <td>1.000000</td>\n",
       "      <td>0.000000</td>\n",
       "      <td>31.000000</td>\n",
       "    </tr>\n",
       "    <tr>\n",
       "      <th>max</th>\n",
       "      <td>891.000000</td>\n",
       "      <td>1.000000</td>\n",
       "      <td>3.000000</td>\n",
       "      <td>80.000000</td>\n",
       "      <td>8.000000</td>\n",
       "      <td>6.000000</td>\n",
       "      <td>512.329200</td>\n",
       "    </tr>\n",
       "  </tbody>\n",
       "</table>\n",
       "</div>"
      ],
      "text/plain": [
       "       PassengerId    Survived      Pclass         Age       SibSp  \\\n",
       "count   891.000000  891.000000  891.000000  714.000000  891.000000   \n",
       "mean    446.000000    0.383838    2.308642   29.699118    0.523008   \n",
       "std     257.353842    0.486592    0.836071   14.526497    1.102743   \n",
       "min       1.000000    0.000000    1.000000    0.420000    0.000000   \n",
       "25%     223.500000    0.000000    2.000000   20.125000    0.000000   \n",
       "50%     446.000000    0.000000    3.000000   28.000000    0.000000   \n",
       "75%     668.500000    1.000000    3.000000   38.000000    1.000000   \n",
       "max     891.000000    1.000000    3.000000   80.000000    8.000000   \n",
       "\n",
       "            Parch        Fare  \n",
       "count  891.000000  891.000000  \n",
       "mean     0.381594   32.204208  \n",
       "std      0.806057   49.693429  \n",
       "min      0.000000    0.000000  \n",
       "25%      0.000000    7.910400  \n",
       "50%      0.000000   14.454200  \n",
       "75%      0.000000   31.000000  \n",
       "max      6.000000  512.329200  "
      ]
     },
     "execution_count": 5,
     "metadata": {},
     "output_type": "execute_result"
    }
   ],
   "source": [
    "dataset.describe()"
   ]
  },
  {
   "cell_type": "markdown",
   "metadata": {},
   "source": [
    "### EDA with visulizasions"
   ]
  },
  {
   "cell_type": "markdown",
   "metadata": {},
   "source": [
    "#### Sex"
   ]
  },
  {
   "cell_type": "code",
   "execution_count": 6,
   "metadata": {},
   "outputs": [
    {
     "name": "stdout",
     "output_type": "stream",
     "text": [
      "   male  female\n",
      "0   468      81\n",
      "1   109     233\n"
     ]
    },
    {
     "data": {
      "image/png": "[encoded data removed]",
      "text/plain": [
       "<Figure size 432x288 with 1 Axes>"
      ]
     },
     "metadata": {
      "needs_background": "light"
     },
     "output_type": "display_data"
    }
   ],
   "source": [
    "# print(dataset['Sex'][0:10])\n",
    "m = dataset.Survived[dataset.Sex == 'male'].value_counts()\n",
    "f = dataset.Survived[dataset.Sex == 'female'].value_counts()\n",
    "df = pd.DataFrame({'male': m, 'female': f})\n",
    "\n",
    "print (df)\n",
    "df.plot(kind = 'bar', stacked = True)\n",
    "plt.show()"
   ]
  },
  {
   "cell_type": "markdown",
   "metadata": {},
   "source": [
    "#### Age"
   ]
  },
  {
   "cell_type": "code",
   "execution_count": 7,
   "metadata": {},
   "outputs": [
    {
     "data": {
      "image/png": "[encoded data removed]",
      "text/plain": [
       "<Figure size 432x288 with 1 Axes>"
      ]
     },
     "metadata": {
      "needs_background": "light"
     },
     "output_type": "display_data"
    },
    {
     "data": {
      "image/png": "[encoded data removed]",
      "text/plain": [
       "<Figure size 432x288 with 1 Axes>"
      ]
     },
     "metadata": {
      "needs_background": "light"
     },
     "output_type": "display_data"
    },
    {
     "data": {
      "image/png": "[encoded data removed]",
      "text/plain": [
       "<Figure size 432x288 with 1 Axes>"
      ]
     },
     "metadata": {
      "needs_background": "light"
     },
     "output_type": "display_data"
    }
   ],
   "source": [
    "dataset['Age'].hist()  \n",
    "plt.ylabel(\"Number\") \n",
    "plt.xlabel(\"Age\") \n",
    "plt.title('Age distribution')\n",
    "plt.show() \n",
    "\n",
    "dataset[dataset.Survived==0]['Age'].hist()  \n",
    "plt.ylabel(\"Number\") \n",
    "plt.xlabel(\"Age\") \n",
    "plt.title('Age distribution of people who did not survive')\n",
    "plt.show()\n",
    "\n",
    "dataset[dataset.Survived==1]['Age'].hist()  \n",
    "plt.ylabel(\"Number\") \n",
    "plt.xlabel(\"Age\") \n",
    "plt.title('Age distribution of people who survived')\n",
    "plt.show()"
   ]
  },
  {
   "cell_type": "markdown",
   "metadata": {},
   "source": [
    "#### Prices"
   ]
  },
  {
   "cell_type": "code",
   "execution_count": 8,
   "metadata": {},
   "outputs": [
    {
     "data": {
      "image/png": "[encoded data removed]",
      "text/plain": [
       "<Figure size 432x288 with 1 Axes>"
      ]
     },
     "metadata": {
      "needs_background": "light"
     },
     "output_type": "display_data"
    },
    {
     "data": {
      "image/png": "[encoded data removed]",
      "text/plain": [
       "<Figure size 432x288 with 1 Axes>"
      ]
     },
     "metadata": {
      "needs_background": "light"
     },
     "output_type": "display_data"
    },
    {
     "data": {
      "image/png": "[encoded data removed]",
      "text/plain": [
       "<Figure size 432x288 with 1 Axes>"
      ]
     },
     "metadata": {
      "needs_background": "light"
     },
     "output_type": "display_data"
    }
   ],
   "source": [
    "dataset['Fare'].hist()  \n",
    "plt.ylabel(\"Number\") \n",
    "plt.xlabel(\"Fare\") \n",
    "plt.title('Fare distribution')\n",
    "plt.show() \n",
    "\n",
    "dataset[dataset.Survived==0]['Fare'].hist()  \n",
    "plt.ylabel(\"Number\") \n",
    "plt.xlabel(\"Fare\") \n",
    "plt.title('Fare distribution of people who did not survive')\n",
    "plt.show()\n",
    "\n",
    "dataset[dataset.Survived==1]['Fare'].hist()  \n",
    "plt.ylabel(\"Number\") \n",
    "plt.xlabel(\"Fare\") \n",
    "plt.title('Fare distribution of people who survived')\n",
    "plt.show()"
   ]
  },
  {
   "cell_type": "markdown",
   "metadata": {},
   "source": [
    "#### P Class"
   ]
  },
  {
   "cell_type": "code",
   "execution_count": 9,
   "metadata": {},
   "outputs": [
    {
     "data": {
      "image/png": "[encoded data removed]",
      "text/plain": [
       "<Figure size 432x288 with 1 Axes>"
      ]
     },
     "metadata": {
      "needs_background": "light"
     },
     "output_type": "display_data"
    },
    {
     "name": "stdout",
     "output_type": "stream",
     "text": [
      "False\n",
      "    p1  p2   p3\n",
      "0   80  97  372\n",
      "1  136  87  119\n"
     ]
    },
    {
     "data": {
      "image/png": "[encoded data removed]",
      "text/plain": [
       "<Figure size 432x288 with 1 Axes>"
      ]
     },
     "metadata": {
      "needs_background": "light"
     },
     "output_type": "display_data"
    }
   ],
   "source": [
    "dataset['Pclass'].hist()  \n",
    "plt.show()  \n",
    "print(dataset['Pclass'].isnull().values.any())\n",
    "\n",
    "Survived_p1 = dataset.Survived[dataset['Pclass'] == 1].value_counts()\n",
    "Survived_p2 = dataset.Survived[dataset['Pclass'] == 2].value_counts()\n",
    "Survived_p3 = dataset.Survived[dataset['Pclass'] == 3].value_counts()\n",
    "\n",
    "df=pd.DataFrame({'p1':Survived_p1, 'p2':Survived_p2, 'p3':Survived_p3})\n",
    "print(df)\n",
    "df.plot(kind='bar', stacked=True)\n",
    "plt.title(\"survived by pclass\")\n",
    "plt.xlabel(\"pclass\") \n",
    "plt.ylabel(\"count\")\n",
    "plt.show()"
   ]
  },
  {
   "cell_type": "markdown",
   "metadata": {},
   "source": [
    "#### Embarked"
   ]
  },
  {
   "cell_type": "code",
   "execution_count": 10,
   "metadata": {
    "collapsed": true
   },
   "outputs": [
    {
     "name": "stdout",
     "output_type": "stream",
     "text": [
      "0    427\n",
      "1    217\n",
      "Name: Survived, dtype: int64\n"
     ]
    },
    {
     "data": {
      "image/png": "[encoded data removed]",
      "text/plain": [
       "<Figure size 432x288 with 1 Axes>"
      ]
     },
     "metadata": {
      "needs_background": "light"
     },
     "output_type": "display_data"
    }
   ],
   "source": [
    "Survived_S = dataset.Survived[dataset['Embarked'] == 'S'].value_counts()\n",
    "Survived_C = dataset.Survived[dataset['Embarked'] == 'C'].value_counts()\n",
    "Survived_Q = dataset.Survived[dataset['Embarked'] == 'Q'].value_counts()\n",
    "\n",
    "print(Survived_S)\n",
    "df = pd.DataFrame({'S':Survived_S, 'C':Survived_C, 'Q':Survived_Q})\n",
    "df.plot(kind='bar', stacked=True)\n",
    "plt.title(\"Survived by Embarked\")\n",
    "plt.xlabel(\"Survival\") \n",
    "plt.ylabel(\"count\")\n",
    "plt.show()"
   ]
  },
  {
   "cell_type": "markdown",
   "metadata": {},
   "source": [
    "## Prepare data"
   ]
  },
  {
   "cell_type": "code",
   "execution_count": 11,
   "metadata": {},
   "outputs": [
    {
     "name": "stdout",
     "output_type": "stream",
     "text": [
      "(891, 5)\n",
      "   Pclass     Sex   Age     Fare Embarked\n",
      "0       3    male  22.0   7.2500        S\n",
      "1       1  female  38.0  71.2833        C\n",
      "2       3  female  26.0   7.9250        S\n",
      "3       1  female  35.0  53.1000        S\n",
      "4       3    male  35.0   8.0500        S\n"
     ]
    }
   ],
   "source": [
    "label=dataset.loc[:,'Survived']\n",
    "data=dataset.loc[:,['Pclass', 'Sex', 'Age', 'Fare', 'Embarked']]\n",
    "testdat=testset.loc[:,['Pclass', 'Sex', 'Age', 'Fare', 'Embarked']]\n",
    "\n",
    "print(data.shape)\n",
    "print(data.head())"
   ]
  },
  {
   "cell_type": "markdown",
   "metadata": {},
   "source": [
    "### Missing Data"
   ]
  },
  {
   "cell_type": "code",
   "execution_count": 12,
   "metadata": {
    "_cell_guid": "735702af-c353-40b4-b86d-c208082208cb",
    "scrolled": true
   },
   "outputs": [
    {
     "name": "stdout",
     "output_type": "stream",
     "text": [
      "True\n",
      "False\n",
      "True\n",
      "False\n",
      "   Pclass     Sex   Age     Fare Embarked\n",
      "0       3    male  22.0   7.2500        S\n",
      "1       1  female  38.0  71.2833        C\n",
      "2       3  female  26.0   7.9250        S\n",
      "3       1  female  35.0  53.1000        S\n",
      "4       3    male  35.0   8.0500        S\n"
     ]
    }
   ],
   "source": [
    "def fill_NAN(data):  \n",
    "    data_copy = data.copy(deep=True)\n",
    "    data_copy.loc[:,'Age'] = data_copy['Age'].fillna(data_copy['Age'].median())\n",
    "    data_copy.loc[:,'Fare'] = data_copy['Fare'].fillna(data_copy['Fare'].median())\n",
    "    data_copy.loc[:,'Pclass'] = data_copy['Pclass'].fillna(data_copy['Pclass'].median())\n",
    "    data_copy.loc[:,'Sex'] = data_copy['Sex'].fillna('female')\n",
    "    data_copy.loc[:,'Embarked'] = data_copy['Embarked'].fillna('S')\n",
    "    return data_copy\n",
    "\n",
    "\n",
    "data_no_nan = fill_NAN(data)\n",
    "testdat_no_nan = fill_NAN(testdat)\n",
    "\n",
    "print(testdat.isnull().values.any())    \n",
    "print(testdat_no_nan.isnull().values.any())\n",
    "print(data.isnull().values.any())   \n",
    "print(data_no_nan.isnull().values.any())    \n",
    "\n",
    "print(data_no_nan.head())"
   ]
  },
  {
   "cell_type": "markdown",
   "metadata": {},
   "source": [
    "### Encoding"
   ]
  },
  {
   "cell_type": "code",
   "execution_count": 13,
   "metadata": {},
   "outputs": [
    {
     "name": "stdout",
     "output_type": "stream",
     "text": [
      "null in sex? False\n",
      "null in Embarked? False\n",
      "   Pclass  Sex   Age     Fare Embarked\n",
      "0       3    1  34.5   7.8292        Q\n",
      "1       3    0  47.0   7.0000        S\n",
      "2       2    1  62.0   9.6875        Q\n",
      "3       3    1  27.0   8.6625        S\n",
      "4       3    0  22.0  12.2875        S\n",
      "   Pclass  Sex   Age     Fare  Embarked\n",
      "0       3    1  34.5   7.8292         2\n",
      "1       3    0  47.0   7.0000         0\n",
      "2       2    1  62.0   9.6875         2\n",
      "3       3    1  27.0   8.6625         0\n",
      "4       3    0  22.0  12.2875         0\n"
     ]
    }
   ],
   "source": [
    "print('null in sex?', data_no_nan['Sex'].isnull().values.any())\n",
    "print('null in Embarked?', data_no_nan['Embarked'].isnull().values.any())\n",
    "\n",
    "def transfer_sex(data):\n",
    "    data_copy = data.copy(deep=True)\n",
    "    data_copy.loc[data_copy['Sex'] == 'female', 'Sex'] = 0\n",
    "    data_copy.loc[data_copy['Sex'] == 'male', 'Sex'] = 1\n",
    "    return data_copy\n",
    "\n",
    "def transfer_embark(data):\n",
    "    data_copy = data.copy(deep=True)\n",
    "    data_copy.loc[data_copy['Embarked'] == 'S', 'Embarked'] = 0\n",
    "    data_copy.loc[data_copy['Embarked'] == 'C', 'Embarked'] = 1\n",
    "    data_copy.loc[data_copy['Embarked'] == 'Q', 'Embarked'] = 2\n",
    "    return data_copy\n",
    "\n",
    "data_after_sex = transfer_sex(data_no_nan)\n",
    "testdat_after_sex = transfer_sex(testdat_no_nan)\n",
    "print(testdat_after_sex.head())\n",
    "\n",
    "data_after_embarked = transfer_embark(data_after_sex)\n",
    "testdat_after_embarked = transfer_embark(testdat_after_sex)\n",
    "print(testdat_after_embarked.head())"
   ]
  },
  {
   "cell_type": "markdown",
   "metadata": {},
   "source": [
    "## Training Model"
   ]
  },
  {
   "cell_type": "code",
   "execution_count": 14,
   "metadata": {},
   "outputs": [
    {
     "name": "stdout",
     "output_type": "stream",
     "text": [
      "(712, 5) (179, 5) (712,) (179,)\n"
     ]
    }
   ],
   "source": [
    "# Train Test Spliting\n",
    "\n",
    "data_now = data_after_embarked\n",
    "testdat_now = testdat_after_embarked\n",
    "from sklearn.model_selection import train_test_split\n",
    "\n",
    "train_data,val_data,train_labels,val_labels=train_test_split(data_now,label,random_state=0,test_size=0.2)\n",
    "\n",
    "print(train_data.shape, val_data.shape, train_labels.shape, val_labels.shape)"
   ]
  },
  {
   "cell_type": "markdown",
   "metadata": {},
   "source": [
    "### KNN"
   ]
  },
  {
   "cell_type": "code",
   "execution_count": 15,
   "metadata": {
    "_cell_guid": "ca512835-f047-0dcf-3e77-ae039d50d118"
   },
   "outputs": [
    {
     "data": {
      "image/png": "[encoded data removed]",
      "text/plain": [
       "<Figure size 432x288 with 1 Axes>"
      ]
     },
     "metadata": {
      "needs_background": "light"
     },
     "output_type": "display_data"
    },
    {
     "name": "stdout",
     "output_type": "stream",
     "text": [
      "[ 0  1  3  7  2 15  5 13 17 11 12 44 14 49  8 10  4  9 42 36 16 19 18 43\n",
      "  6 25 23 45 48 46 41 21 40 39 47 38 37 31 30 29 27 26 22 35 33 28 20 24\n",
      " 34 32]\n"
     ]
    }
   ],
   "source": [
    "from sklearn.neighbors import KNeighborsClassifier\n",
    "from sklearn.metrics import accuracy_score\n",
    "k_range = range(1, 51)\n",
    "k_scores = []\n",
    "for K in k_range:\n",
    "    clf=KNeighborsClassifier(n_neighbors = K)\n",
    "    clf.fit(train_data,train_labels)\n",
    "#     print('K=', K)\n",
    "    predictions=clf.predict(val_data)\n",
    "    score = accuracy_score(val_labels,predictions)\n",
    "#     print(score)\n",
    "    k_scores.append(score)\n",
    "    \n",
    "plt.plot(k_range, k_scores)\n",
    "plt.xlabel('K for KNN')\n",
    "plt.ylabel('Accuracy on validation set')\n",
    "plt.show()\n",
    "print(np.array(k_scores).argsort())"
   ]
  },
  {
   "cell_type": "markdown",
   "metadata": {},
   "source": [
    "## Predicting"
   ]
  },
  {
   "cell_type": "code",
   "execution_count": 16,
   "metadata": {},
   "outputs": [
    {
     "data": {
      "image/png": "[encoded data removed]",
      "text/plain": [
       "<Figure size 432x288 with 1 Axes>"
      ]
     },
     "metadata": {
      "needs_background": "light"
     },
     "output_type": "display_data"
    }
   ],
   "source": [
    "clf=KNeighborsClassifier(n_neighbors=33)\n",
    "clf.fit(data_now,label)\n",
    "result=clf.predict(testdat_now)\n",
    "plt.hist(result)\n",
    "plt.show()"
   ]
  },
  {
   "cell_type": "markdown",
   "metadata": {},
   "source": [
    "## Writing Submissions"
   ]
  },
  {
   "cell_type": "code",
   "execution_count": 17,
   "metadata": {},
   "outputs": [],
   "source": [
    "df = pd.DataFrame({\"PassengerId\": testset['PassengerId'],\"Survived\": result})\n",
    "df.to_csv('submission.csv',header=True, index=False)"
   ]
  }
 ],
 "metadata": {
  "_change_revision": 1,
  "_is_fork": false,
  "kernelspec": {
   "display_name": "Python 3",
   "language": "python",
   "name": "python3"
  },
  "language_info": {
   "codemirror_mode": {
    "name": "ipython",
    "version": 3
   },
   "file_extension": ".py",
   "mimetype": "text/x-python",
   "name": "python",
   "nbconvert_exporter": "python",
   "pygments_lexer": "ipython3",
   "version": "3.7.3"
  }
 },
 "nbformat": 4,
 "nbformat_minor": 2
}
